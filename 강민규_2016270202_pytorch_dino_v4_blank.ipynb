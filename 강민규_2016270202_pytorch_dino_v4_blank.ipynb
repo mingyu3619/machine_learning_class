{
  "nbformat": 4,
  "nbformat_minor": 0,
  "metadata": {
    "coursera": {
      "course_slug": "nlp-sequence-models",
      "graded_item_id": "1dYg0",
      "launcher_item_id": "MLhxP"
    },
    "kernelspec": {
      "display_name": "Python 3",
      "language": "python",
      "name": "python3"
    },
    "language_info": {
      "codemirror_mode": {
        "name": "ipython",
        "version": 3
      },
      "file_extension": ".py",
      "mimetype": "text/x-python",
      "name": "python",
      "nbconvert_exporter": "python",
      "pygments_lexer": "ipython3",
      "version": "3.7.1"
    },
    "colab": {
      "name": "pytorch_dino_v4_blank.ipynb",
      "provenance": [],
      "collapsed_sections": [],
      "toc_visible": true
    }
  },
  "cells": [
    {
      "cell_type": "code",
      "metadata": {
        "colab": {
          "base_uri": "https://localhost:8080/"
        },
        "id": "7URVQh6Pkeff",
        "outputId": "9ca62c56-7a9c-4389-feb2-296d37588b98"
      },
      "source": [
        "from google.colab import drive\n",
        "drive.mount('/content/drive')"
      ],
      "execution_count": 16,
      "outputs": [
        {
          "output_type": "stream",
          "text": [
            "Drive already mounted at /content/drive; to attempt to forcibly remount, call drive.mount(\"/content/drive\", force_remount=True).\n"
          ],
          "name": "stdout"
        }
      ]
    },
    {
      "cell_type": "code",
      "metadata": {
        "colab": {
          "base_uri": "https://localhost:8080/",
          "height": 35
        },
        "id": "NKelsLcfkg9I",
        "outputId": "c7d44b41-bb37-4960-92bd-be4eaab0d1c6"
      },
      "source": [
        "import os\n",
        "\n",
        "os.chdir('/content/drive/My Drive/Colab Notebooks/ML_class/13_Dino')\n",
        "%pwd"
      ],
      "execution_count": 17,
      "outputs": [
        {
          "output_type": "execute_result",
          "data": {
            "application/vnd.google.colaboratory.intrinsic+json": {
              "type": "string"
            },
            "text/plain": [
              "'/content/drive/My Drive/Colab Notebooks/ML_class/13_Dino'"
            ]
          },
          "metadata": {
            "tags": []
          },
          "execution_count": 17
        }
      ]
    },
    {
      "cell_type": "markdown",
      "metadata": {
        "id": "UNBYhxrxWwrY"
      },
      "source": [
        "# Character level language model - Dinosaurus land\n",
        "\n",
        "** This problem comes from Andrew Ng's coursera course. Instead of using their Keras-based solution, we will try to solve this problem based on PyTorch.**\n",
        "\n",
        "Imagine that leading biology researchers are creating new breeds of dinosaurs and bringing them to life on earth, and your job is to give names to these dinosaurs. If a dinosaur does not like its name, it might go beserk, so choose wisely!  \n",
        "\n",
        "Luckily you have learned some deep learning and you will use it to save the day. To create new dinosaur names, you will build a character level language model to generate new names. Your algorithm will learn the different name patterns, and randomly generate new names. \n",
        "\n",
        "\n",
        "By completing this assignment you will learn:\n",
        "\n",
        "- How to store text data for processing using an RNN \n",
        "- How to synthesize data, by sampling predictions at each time step and passing it to the next RNN-cell unit\n",
        "- How to build a character-level text generation recurrent neural network\n",
        "\n",
        "\n"
      ]
    },
    {
      "cell_type": "code",
      "metadata": {
        "id": "VBB7zebSWwrZ"
      },
      "source": [
        "import os\n",
        "import time\n",
        "import math\n",
        "import string\n",
        "import random\n",
        "\n",
        "import collections\n",
        "import numpy as np\n",
        "import matplotlib.pyplot as plt\n",
        "\n",
        "import torch\n",
        "from torch import nn\n",
        "from torch import optim\n",
        "from torch.functional import F\n",
        "from torch.utils.data import DataLoader"
      ],
      "execution_count": 18,
      "outputs": []
    },
    {
      "cell_type": "markdown",
      "metadata": {
        "collapsed": true,
        "id": "TW1_HvVCWwrc"
      },
      "source": [
        "## Dataset and Preprocessing\n",
        "\n",
        "Run the following cell to read the dataset of dinosaur names, create a list of unique characters (such as a-z), and compute the dataset and vocabulary size. "
      ]
    },
    {
      "cell_type": "code",
      "metadata": {
        "id": "s5fEBDl0Wwrc",
        "colab": {
          "base_uri": "https://localhost:8080/"
        },
        "outputId": "87723152-20b4-4f15-f748-aade65c0ccc9"
      },
      "source": [
        "def split_to_names(fname):\n",
        "    EOS = \"<EOS>\"\n",
        "    data = []\n",
        "        \n",
        "    with open(fname) as file:\n",
        "        text = file.read().lower()\n",
        "            \n",
        "    names = text.splitlines()\n",
        "    for i, name in enumerate(names):\n",
        "        # Split names to chars and append the End of Sequence (EOS) Token\n",
        "        ch_list = list(name) + [EOS]\n",
        "        data.append(ch_list)\n",
        "    return data\n",
        "\n",
        "dino_list_in_char = split_to_names(\"dinos.txt\")\n",
        "\n",
        "print(dino_list_in_char[0])\n",
        "print(dino_list_in_char[1])"
      ],
      "execution_count": 19,
      "outputs": [
        {
          "output_type": "stream",
          "text": [
            "['a', 'a', 'c', 'h', 'e', 'n', 'o', 's', 'a', 'u', 'r', 'u', 's', '<EOS>']\n",
            "['a', 'a', 'r', 'd', 'o', 'n', 'y', 'x', '<EOS>']\n"
          ],
          "name": "stdout"
        }
      ]
    },
    {
      "cell_type": "markdown",
      "metadata": {
        "id": "e4MwqUAFWwrf"
      },
      "source": [
        "The characters are a-z (26 characters) plus the \"\\n\" (or newline character), which in this assignment plays a role similar to the `<EOS>` (or \"End of sentence\") token we had discussed in lecture, only here it indicates the end of the dinosaur name rather than the end of a sentence. \n",
        "In the cell below, we create a python dictionary (i.e., a hash table) to map each character to an index from 0-26. We also create a second python dictionary that maps each index back to the corresponding character character. This will help you figure out what index corresponds to what character in the probability distribution output of the softmax layer. Below, `char_to_ix` and `ix_to_char` are the python dictionaries. "
      ]
    },
    {
      "cell_type": "code",
      "metadata": {
        "id": "zD4Yl9uIWwrh",
        "colab": {
          "base_uri": "https://localhost:8080/"
        },
        "outputId": "2f4f43e5-571c-4653-f931-7d7b64d82e7b"
      },
      "source": [
        "char_vocab = [\"<EOS>\"] + sorted([ch for ch in string.ascii_lowercase])\n",
        "\n",
        "char_to_ix = {ch:i for i,ch in enumerate(char_vocab)}\n",
        "ix_to_char = {i:ch for ch,i in char_to_ix.items()}\n",
        "\n",
        "print(char_to_ix)\n",
        "print(ix_to_char)"
      ],
      "execution_count": 20,
      "outputs": [
        {
          "output_type": "stream",
          "text": [
            "{'<EOS>': 0, 'a': 1, 'b': 2, 'c': 3, 'd': 4, 'e': 5, 'f': 6, 'g': 7, 'h': 8, 'i': 9, 'j': 10, 'k': 11, 'l': 12, 'm': 13, 'n': 14, 'o': 15, 'p': 16, 'q': 17, 'r': 18, 's': 19, 't': 20, 'u': 21, 'v': 22, 'w': 23, 'x': 24, 'y': 25, 'z': 26}\n",
            "{0: '<EOS>', 1: 'a', 2: 'b', 3: 'c', 4: 'd', 5: 'e', 6: 'f', 7: 'g', 8: 'h', 9: 'i', 10: 'j', 11: 'k', 12: 'l', 13: 'm', 14: 'n', 15: 'o', 16: 'p', 17: 'q', 18: 'r', 19: 's', 20: 't', 21: 'u', 22: 'v', 23: 'w', 24: 'x', 25: 'y', 26: 'z'}\n"
          ],
          "name": "stdout"
        }
      ]
    },
    {
      "cell_type": "markdown",
      "metadata": {
        "id": "q2W0-ZuAWwrj"
      },
      "source": [
        "## Data Loading\n",
        "\n",
        "\n",
        "\n",
        "\n"
      ]
    },
    {
      "cell_type": "code",
      "metadata": {
        "id": "YxtrXX5edDPO"
      },
      "source": [
        "def keys_to_values(keys, _map, default):\n",
        "    return [_map.get(key, default) for key in keys]\n",
        "\n",
        "\n",
        "class Dataset(torch.utils.data.Dataset):\n",
        "    def __init__(self, data_as_str, _map):\n",
        "        self.data_as_int = []\n",
        "        \n",
        "        # Convert characters to integers\n",
        "        for seq_as_str in data_as_str:\n",
        "            seq_as_int = keys_to_values(seq_as_str, _map, random.choice(list(_map)))\n",
        "            self.data_as_int.append(seq_as_int)\n",
        "\n",
        "    def __len__(self):\n",
        "        return len(self.data_as_int)\n",
        "\n",
        "    def __getitem__(self, ix):\n",
        "        # Get data sample at index ix\n",
        "        item = self.data_as_int[ix]\n",
        "        \n",
        "        # Slice x and y from sample\n",
        "        x = item[:-1]\n",
        "        y = item[ 1:]\n",
        "        return torch.tensor(x), torch.tensor(y)\n"
      ],
      "execution_count": 21,
      "outputs": []
    },
    {
      "cell_type": "code",
      "metadata": {
        "colab": {
          "base_uri": "https://localhost:8080/"
        },
        "id": "OCAJnAFWjLvM",
        "outputId": "c1a9960f-2cc0-4fc8-bd29-aa7d933d430a"
      },
      "source": [
        "dataset = Dataset(dino_list_in_char, char_to_ix)\n",
        "dataloader = DataLoader(dataset, batch_size=1, shuffle=True)\n",
        "\n",
        "xx, yy = dataset.__getitem__(0)\n",
        "\n",
        "print(\"x from dataset:\", xx)\n",
        "print(\"y from dataset:\", yy)"
      ],
      "execution_count": 23,
      "outputs": [
        {
          "output_type": "stream",
          "text": [
            "x from dataset: tensor([ 1,  1,  3,  8,  5, 14, 15, 19,  1, 21, 18, 21, 19])\n",
            "y from dataset: tensor([ 1,  3,  8,  5, 14, 15, 19,  1, 21, 18, 21, 19,  0])\n"
          ],
          "name": "stdout"
        }
      ]
    },
    {
      "cell_type": "code",
      "metadata": {
        "colab": {
          "base_uri": "https://localhost:8080/"
        },
        "id": "psvBNlY4rI97",
        "outputId": "b762fc8d-bae1-4fa1-f67f-c0d191b0f79d"
      },
      "source": [
        "t_embedding = nn.Embedding(num_embeddings=27, embedding_dim = 8)\n",
        "t_embed = t_embedding(xx)\n",
        "print(t_embed)\n"
      ],
      "execution_count": 24,
      "outputs": [
        {
          "output_type": "stream",
          "text": [
            "tensor([[ 7.9782e-01, -1.1143e+00,  7.2452e-01, -6.7979e-01,  6.6525e-01,\n",
            "          2.6419e-01, -1.0812e+00,  9.2673e-01],\n",
            "        [ 7.9782e-01, -1.1143e+00,  7.2452e-01, -6.7979e-01,  6.6525e-01,\n",
            "          2.6419e-01, -1.0812e+00,  9.2673e-01],\n",
            "        [-9.3449e-01, -1.8960e+00,  1.2122e+00,  8.7883e-01,  2.4871e-01,\n",
            "          1.9022e+00, -3.8622e-02, -3.0282e-01],\n",
            "        [ 1.3868e+00,  5.5180e-01,  1.1814e+00, -1.8047e-01, -2.8038e-01,\n",
            "          1.2594e-01,  2.5039e-02, -8.4645e-01],\n",
            "        [ 3.4575e-01, -1.3811e+00, -1.9646e+00,  1.2649e+00,  1.6956e-01,\n",
            "          1.9174e+00, -1.0950e+00, -2.5998e-01],\n",
            "        [-1.9730e+00, -1.1149e+00, -1.3436e+00,  4.9206e-01,  7.3054e-01,\n",
            "         -4.2840e-01, -3.9060e-01, -4.2865e-01],\n",
            "        [-4.9653e-01,  8.2501e-01, -9.3854e-01, -1.1112e+00,  5.5174e-01,\n",
            "          3.4763e-01, -1.1441e+00,  1.3646e-01],\n",
            "        [ 6.1975e-01, -4.1251e-01, -1.5244e+00, -3.3758e-01,  7.0547e-01,\n",
            "         -1.1381e+00, -3.5191e-01, -2.3472e-01],\n",
            "        [ 7.9782e-01, -1.1143e+00,  7.2452e-01, -6.7979e-01,  6.6525e-01,\n",
            "          2.6419e-01, -1.0812e+00,  9.2673e-01],\n",
            "        [ 4.0249e-01, -1.4367e+00,  1.6722e-01, -3.0175e-01, -1.7683e+00,\n",
            "          3.1723e-01,  2.9182e-01, -6.7596e-01],\n",
            "        [ 1.4166e+00, -9.9418e-01,  5.1611e-04,  2.5872e-01,  1.6383e-01,\n",
            "         -1.1903e+00,  5.5938e-01,  3.7297e-01],\n",
            "        [ 4.0249e-01, -1.4367e+00,  1.6722e-01, -3.0175e-01, -1.7683e+00,\n",
            "          3.1723e-01,  2.9182e-01, -6.7596e-01],\n",
            "        [ 6.1975e-01, -4.1251e-01, -1.5244e+00, -3.3758e-01,  7.0547e-01,\n",
            "         -1.1381e+00, -3.5191e-01, -2.3472e-01]], grad_fn=<EmbeddingBackward>)\n"
          ],
          "name": "stdout"
        }
      ]
    },
    {
      "cell_type": "markdown",
      "metadata": {
        "collapsed": true,
        "id": "xizc13QQWwrk"
      },
      "source": [
        "## Model"
      ]
    },
    {
      "cell_type": "markdown",
      "metadata": {
        "id": "rVH2D8AlWwrk"
      },
      "source": [
        "Build a neural network"
      ]
    },
    {
      "cell_type": "code",
      "metadata": {
        "id": "wGZ0I_AuWwrl"
      },
      "source": [
        "class Model(nn.Module):\n",
        "    def __init__(self, _map, hidden_size, emb_dim=8, n_layers=1, dropout_p=0.2):\n",
        "        super(Model, self).__init__()\n",
        "        \n",
        "        self.vocab_size  = len(_map)\n",
        "        self.hidden_size = hidden_size\n",
        "        self.emb_dim     = emb_dim\n",
        "        self.n_layers    = n_layers\n",
        "        self.dropout_p   = dropout_p\n",
        "        \n",
        "        self.embedding = nn.Embedding(\n",
        "            num_embeddings=self.vocab_size,\n",
        "            embedding_dim =self.emb_dim)\n",
        "        \n",
        "        self.lstm = nn.LSTM(\n",
        "            input_size =self.emb_dim,\n",
        "            hidden_size=self.hidden_size,\n",
        "            num_layers =self.n_layers,\n",
        "            batch_first=True)  # if True, input and output tensors are in (batch, seq, feature)\n",
        "        \n",
        "        self.dropout = nn.Dropout(self.dropout_p)\n",
        "        \n",
        "        self.fc = nn.Linear(\n",
        "            in_features =self.hidden_size,\n",
        "            out_features=self.vocab_size)\n",
        "        \n",
        "    def forward(self, x, init_state):\n",
        "\n",
        "        # x : (batch, seq)\n",
        "        # prev_state = (h, c)\n",
        "        # h, c : (layer, batch, hidden_size)\n",
        "        n_b, n_s = x.shape\n",
        "        \n",
        "        # embed = (batch, seq, embed)\n",
        "        embed = self.embedding(x)\n",
        "\n",
        "        # lstm's input : embed, (h_0, c_0)\n",
        "        # lstm's output: y, (h_n, c_n)\n",
        "        #                y : (batch, seq, hidden_size)\n",
        "        # *** y_n == h_n\n",
        "        # refer to https://pytorch.org/docs/stable/generated/torch.nn.LSTM.html\n",
        "\n",
        "        # lstm\n",
        "        yhat, final_state = self.lstm(embed,init_state)\n",
        "        \n",
        "        # dropout\n",
        "        yhat = self.dropout(yhat)\n",
        "        \n",
        "        # fully connected layer\n",
        "        out = self.fc(yhat)\n",
        "        \n",
        "        return out, final_state\n",
        "    \n",
        "    def init_state(self, b_size=1):\n",
        "        return (torch.zeros(self.n_layers, b_size, self.hidden_size),\n",
        "                torch.zeros(self.n_layers, b_size, self.hidden_size))\n",
        "\n",
        "model = Model(char_to_ix, 64, 8, n_layers=1, dropout_p=0.2)"
      ],
      "execution_count": 14,
      "outputs": []
    },
    {
      "cell_type": "markdown",
      "metadata": {
        "id": "OsryFHMEWwr4"
      },
      "source": [
        "## Training"
      ]
    },
    {
      "cell_type": "code",
      "metadata": {
        "colab": {
          "base_uri": "https://localhost:8080/"
        },
        "id": "BQgsK-OHuNmy",
        "outputId": "f04c3059-5559-462c-ac2c-c2399a54c113"
      },
      "source": [
        "def train(model, data, num_iter, criterion, clip=0.25, lr=0.001, print_every=50):\n",
        "    model.train()\n",
        "    \n",
        "    costs = []\n",
        "    running_loss = 0\n",
        "    optimizer = optim.Adam(model.parameters(), lr=lr)\n",
        "\n",
        "    curr_iter = 0\n",
        "    while curr_iter<num_iter:\n",
        "        for x, y in data:\n",
        "            optimizer.zero_grad()\n",
        "            \n",
        "            # Initialise model's state and perform forward-prop\n",
        "            init_state = model.init_state(b_size=x.shape[0])\n",
        "\n",
        "            #def forward(self, x, init_state):\n",
        "            # forward propagation\n",
        "            out, state = Model.forward(model,x,init_state)\n",
        "\n",
        "            # Calculate loss\n",
        "            # criterion's input : (batch, class) --> out (1, seq, class)\n",
        "            # criterion's target : (batch)  --> y (1, seq)\n",
        "            loss = criterion(out.transpose(1, 2), y)\n",
        "            costs.append(loss.item())\n",
        "            running_loss += loss.item()\n",
        "\n",
        "            # Calculate gradients and update parameters\n",
        "            loss.backward()\n",
        "            if clip:\n",
        "                nn.utils.clip_grad_norm_(model.parameters(), clip)\n",
        "            optimizer.step()\n",
        "            \n",
        "            curr_iter += 1\n",
        "            if print_every and (curr_iter%print_every)==0:\n",
        "                print(\"Iteration: {:{}}/{}, Loss: {:8.4f}\".format(\n",
        "                    curr_iter, int(math.log(num_iter, 10))+2, num_iter,\n",
        "                    running_loss/float(print_every)))\n",
        "                running_loss = 0\n",
        "                \n",
        "            if curr_iter>=num_iter:\n",
        "                break\n",
        "    return model, costs\n",
        "\n",
        "\n",
        "criterion = nn.CrossEntropyLoss()\n",
        "model, costs = train( model, dataloader, 50000 , criterion, clip=0.25, lr=1e-3, print_every=1000)"
      ],
      "execution_count": 25,
      "outputs": [
        {
          "output_type": "stream",
          "text": [
            "Iteration:   1000/50000, Loss:   2.2984\n",
            "Iteration:   2000/50000, Loss:   1.9506\n",
            "Iteration:   3000/50000, Loss:   1.8768\n",
            "Iteration:   4000/50000, Loss:   1.7852\n",
            "Iteration:   5000/50000, Loss:   1.7502\n",
            "Iteration:   6000/50000, Loss:   1.7064\n",
            "Iteration:   7000/50000, Loss:   1.6576\n",
            "Iteration:   8000/50000, Loss:   1.6539\n",
            "Iteration:   9000/50000, Loss:   1.6036\n",
            "Iteration:  10000/50000, Loss:   1.5983\n",
            "Iteration:  11000/50000, Loss:   1.5843\n",
            "Iteration:  12000/50000, Loss:   1.5498\n",
            "Iteration:  13000/50000, Loss:   1.5719\n",
            "Iteration:  14000/50000, Loss:   1.5035\n",
            "Iteration:  15000/50000, Loss:   1.5141\n",
            "Iteration:  16000/50000, Loss:   1.4842\n",
            "Iteration:  17000/50000, Loss:   1.4962\n",
            "Iteration:  18000/50000, Loss:   1.4772\n",
            "Iteration:  19000/50000, Loss:   1.4538\n",
            "Iteration:  20000/50000, Loss:   1.4409\n",
            "Iteration:  21000/50000, Loss:   1.4461\n",
            "Iteration:  22000/50000, Loss:   1.3866\n",
            "Iteration:  23000/50000, Loss:   1.4157\n",
            "Iteration:  24000/50000, Loss:   1.4107\n",
            "Iteration:  25000/50000, Loss:   1.3733\n",
            "Iteration:  26000/50000, Loss:   1.3651\n",
            "Iteration:  27000/50000, Loss:   1.3423\n",
            "Iteration:  28000/50000, Loss:   1.3692\n",
            "Iteration:  29000/50000, Loss:   1.3408\n",
            "Iteration:  30000/50000, Loss:   1.3454\n",
            "Iteration:  31000/50000, Loss:   1.3558\n",
            "Iteration:  32000/50000, Loss:   1.2923\n",
            "Iteration:  33000/50000, Loss:   1.3221\n",
            "Iteration:  34000/50000, Loss:   1.2977\n",
            "Iteration:  35000/50000, Loss:   1.2948\n",
            "Iteration:  36000/50000, Loss:   1.2835\n",
            "Iteration:  37000/50000, Loss:   1.2864\n",
            "Iteration:  38000/50000, Loss:   1.2567\n",
            "Iteration:  39000/50000, Loss:   1.2693\n",
            "Iteration:  40000/50000, Loss:   1.2758\n",
            "Iteration:  41000/50000, Loss:   1.2526\n",
            "Iteration:  42000/50000, Loss:   1.2156\n",
            "Iteration:  43000/50000, Loss:   1.2584\n",
            "Iteration:  44000/50000, Loss:   1.2086\n",
            "Iteration:  45000/50000, Loss:   1.2547\n",
            "Iteration:  46000/50000, Loss:   1.2026\n",
            "Iteration:  47000/50000, Loss:   1.2031\n",
            "Iteration:  48000/50000, Loss:   1.1997\n",
            "Iteration:  49000/50000, Loss:   1.2141\n",
            "Iteration:  50000/50000, Loss:   1.1696\n"
          ],
          "name": "stdout"
        }
      ]
    },
    {
      "cell_type": "markdown",
      "metadata": {
        "id": "903NgzTQ0cAC"
      },
      "source": [
        "## Plotting"
      ]
    },
    {
      "cell_type": "code",
      "metadata": {
        "colab": {
          "base_uri": "https://localhost:8080/",
          "height": 297
        },
        "id": "fAt8WgKl0bLb",
        "outputId": "4776564f-b65e-408c-d382-8f7a1448ab49"
      },
      "source": [
        "cum = 300\n",
        "plt.xlabel(\"Iteration\")\n",
        "plt.ylabel(\"Cross-Entropy Loss\")\n",
        "plt.plot([sum(costs[i:i+cum])/cum for i in range(0, len(costs), cum)])"
      ],
      "execution_count": 26,
      "outputs": [
        {
          "output_type": "execute_result",
          "data": {
            "text/plain": [
              "[<matplotlib.lines.Line2D at 0x7fb2bcbef750>]"
            ]
          },
          "metadata": {
            "tags": []
          },
          "execution_count": 26
        },
        {
          "output_type": "display_data",
          "data": {
            "image/png": "[encoded data removed]",
            "text/plain": [
              "<Figure size 432x288 with 1 Axes>"
            ]
          },
          "metadata": {
            "tags": [],
            "needs_background": "light"
          }
        }
      ]
    },
    {
      "cell_type": "markdown",
      "metadata": {
        "id": "LhllHYQc0hXb"
      },
      "source": [
        "## Sampling"
      ]
    },
    {
      "cell_type": "code",
      "metadata": {
        "id": "nGqVI6cZ0lg1"
      },
      "source": [
        "def sample_next(model, x, prev_state, topk=5, uniform=True):\n",
        "    # Perform forward-prop and get the output of the last time-step\n",
        "    out, state = model(x, prev_state)\n",
        "    last_out = out[0, -1, :]\n",
        "\n",
        "    # Get the top-k indexes and their values\n",
        "    topk = topk if topk else last_out.shape[0]\n",
        "    top_logit, top_ix = torch.topk(last_out, k=topk, dim=-1)\n",
        "    \n",
        "    # Get the softmax of the topk's and sample\n",
        "    p = None if uniform else F.softmax(top_logit.detach(), dim=-1).numpy()\n",
        "    sampled_ix = np.random.choice(top_ix, p=p)\n",
        "    return sampled_ix, state\n",
        "\n",
        "\n",
        "def sample(model, seed, topk=5, uniform=True, max_seqlen=18, stop_on=None):\n",
        "    seed = seed if isinstance(seed, (list, tuple)) else [seed]\n",
        "#    print(seed)\n",
        "    model.eval()\n",
        "    with torch.no_grad():\n",
        "        sampled_ix_list = seed[:]\n",
        "        x = torch.tensor([seed])\n",
        "        \n",
        "        prev_state = model.init_state(b_size=1)\n",
        "        for t in range(max_seqlen - len(seed)):\n",
        "            sampled_ix, prev_state = sample_next(model, x, prev_state, topk, uniform)\n",
        "\n",
        "            sampled_ix_list.append(sampled_ix)\n",
        "            x = torch.tensor([[sampled_ix]])\n",
        "            \n",
        "            if sampled_ix==stop_on:\n",
        "                break\n",
        "    \n",
        "#    model.train()\n",
        "#    print(sampled_ix_list)\n",
        "    return sampled_ix_list"
      ],
      "execution_count": 27,
      "outputs": []
    },
    {
      "cell_type": "code",
      "metadata": {
        "colab": {
          "base_uri": "https://localhost:8080/"
        },
        "id": "PLt7-SXi1f6c",
        "outputId": "d8f29f2b-19a2-44ad-8a12-b267a8c5b34e"
      },
      "source": [
        "print(\">>> Samples where seed is a randomly chosen character.\")\n",
        "for i in range(10):\n",
        "    seed = random.choice(list(char_to_ix.values())[1:])\n",
        "    print(seed, \"=>\", \"\".join(keys_to_values(\n",
        "        sample(model, seed, 5, False, 30, char_to_ix[\"<EOS>\"]),\n",
        "        ix_to_char, \"<?>\")))\n",
        "\n",
        "\n",
        "print(\">>> Samples where seed is a list of character.\")\n",
        "for i in range(3):\n",
        "    seed = keys_to_values(list(\"python\"), char_to_ix, char_to_ix[\"<EOS>\"])\n",
        "    print(seed, \"=>\", \"\".join(keys_to_values(\n",
        "        sample(model, seed, 5, False, 30, char_to_ix[\"<EOS>\"]),\n",
        "        ix_to_char, \"<?>\")))"
      ],
      "execution_count": 28,
      "outputs": [
        {
          "output_type": "stream",
          "text": [
            ">>> Samples where seed is a randomly chosen character.\n",
            "22 => valirusaurus<EOS>\n",
            "24 => xiasasaurus<EOS>\n",
            "25 => yurovenosaurus<EOS>\n",
            "10 => japtoraptor<EOS>\n",
            "25 => yanosaurus<EOS>\n",
            "24 => xinjingilurus<EOS>\n",
            "12 => lanangosaurus<EOS>\n",
            "1 => ampillasaurus<EOS>\n",
            "21 => untelesaurus<EOS>\n",
            "14 => naminisaurus<EOS>\n",
            ">>> Samples where seed is a list of character.\n",
            "[16, 25, 20, 8, 15, 14] => pythonotitan<EOS>\n",
            "[16, 25, 20, 8, 15, 14] => pythonoceratops<EOS>\n",
            "[16, 25, 20, 8, 15, 14] => pythonosponyx<EOS>\n"
          ],
          "name": "stdout"
        }
      ]
    },
    {
      "cell_type": "markdown",
      "metadata": {
        "id": "VvBM2S9bWwr4"
      },
      "source": [
        "**References**:\n",
        "- This exercise took inspiration from Andrej Karpathy's implementation: https://gist.github.com/karpathy/d4dee566867f8291f086. To learn more about text generation, also check out Karpathy's [blog post](http://karpathy.github.io/2015/05/21/rnn-effectiveness/).\n",
        "- For the Shakespearian poem generator, our implementation was based on the implementation of an LSTM text generator by the Keras team: https://github.com/keras-team/keras/blob/master/examples/lstm_text_generation.py "
      ]
    },
    {
      "cell_type": "markdown",
      "metadata": {
        "collapsed": true,
        "id": "ActpjIETWwr4"
      },
      "source": [
        "## Conclusion\n",
        "\n",
        "You can see that your algorithm has started to generate plausible dinosaur names towards the end of the training. At first, it was generating random characters, but towards the end you could see dinosaur names with cool endings. Feel free to run the algorithm even longer and play with hyperparameters to see if you can get even better results. Our implemetation generated some really cool names like `maconucon`, `marloralus` and `macingsersaurus`. Your model hopefully also learned that dinosaur names tend to end in `saurus`, `don`, `aura`, `tor`, etc.\n"
      ]
    }
  ]
}